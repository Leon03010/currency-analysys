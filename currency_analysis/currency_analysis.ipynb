{
 "cells": [
  {
   "cell_type": "code",
   "execution_count": 367,
   "metadata": {},
   "outputs": [],
   "source": [
    "import json\n",
    "json_file = open(\"privat.txt\",\"r\",encoding=\"utf-8\")\n",
    "bank = json.load(json_file)\n",
    "json_file.close()"
   ]
  },
  {
   "cell_type": "code",
   "execution_count": 368,
   "metadata": {},
   "outputs": [
    {
     "data": {
      "text/plain": [
       "[{'date': '26.05.2019',\n",
       "  'bank': 'PB',\n",
       "  'baseCurrency': 980,\n",
       "  'baseCurrencyLit': 'UAH',\n",
       "  'exchangeRate': [{'baseCurrency': 'UAH',\n",
       "    'saleRateNB': 18.109366,\n",
       "    'purchaseRateNB': 18.109366},\n",
       "   {'baseCurrency': 'UAH',\n",
       "    'currency': 'CAD',\n",
       "    'saleRateNB': 19.556908,\n",
       "    'purchaseRateNB': 19.556908},\n",
       "   {'baseCurrency': 'UAH',\n",
       "    'currency': 'CNY',\n",
       "    'saleRateNB': 3.80692,\n",
       "    'purchaseRateNB': 3.80692},\n",
       "   {'baseCurrency': 'UAH',\n",
       "    'currency': 'CZK',\n",
       "    'saleRateNB': 1.136105,\n",
       "    'purchaseRateNB': 1.136105,\n",
       "    'saleRate': 1.15,\n",
       "    'purchaseRate': 1.02},\n",
       "   {'baseCurrency': 'UAH',\n",
       "    'currency': 'DKK',\n",
       "    'saleRateNB': 3.927931,\n",
       "    'purchaseRateNB': 3.927931},\n",
       "   {'baseCurrency': 'UAH',\n",
       "    'currency': 'HUF',\n",
       "    'saleRateNB': 0.0897243,\n",
       "    'purchaseRateNB': 0.0897243},\n",
       "   {'baseCurrency': 'UAH',\n",
       "    'currency': 'ILS',\n",
       "    'saleRateNB': 7.285574,\n",
       "    'purchaseRateNB': 7.285574},\n",
       "   {'baseCurrency': 'UAH',\n",
       "    'currency': 'JPY',\n",
       "    'saleRateNB': 0.2393551,\n",
       "    'purchaseRateNB': 0.2393551},\n",
       "   {'baseCurrency': 'UAH',\n",
       "    'currency': 'KZT',\n",
       "    'saleRateNB': 0.069669,\n",
       "    'purchaseRateNB': 0.069669},\n",
       "   {'baseCurrency': 'UAH',\n",
       "    'currency': 'MDL',\n",
       "    'saleRateNB': 1.460426,\n",
       "    'purchaseRateNB': 1.460426},\n",
       "   {'baseCurrency': 'UAH',\n",
       "    'currency': 'NOK',\n",
       "    'saleRateNB': 3.007429,\n",
       "    'purchaseRateNB': 3.007429},\n",
       "   {'baseCurrency': 'UAH',\n",
       "    'currency': 'SGD',\n",
       "    'saleRateNB': 19.060075,\n",
       "    'purchaseRateNB': 19.060075},\n",
       "   {'baseCurrency': 'UAH',\n",
       "    'currency': 'SEK',\n",
       "    'saleRateNB': 2.732099,\n",
       "    'purchaseRateNB': 2.732099},\n",
       "   {'baseCurrency': 'UAH',\n",
       "    'currency': 'CHF',\n",
       "    'saleRateNB': 26.136281,\n",
       "    'purchaseRateNB': 26.136281,\n",
       "    'saleRate': 26.5,\n",
       "    'purchaseRate': 24.7},\n",
       "   {'baseCurrency': 'UAH',\n",
       "    'currency': 'RUB',\n",
       "    'saleRateNB': 0.40836,\n",
       "    'purchaseRateNB': 0.40836,\n",
       "    'saleRate': 0.41,\n",
       "    'purchaseRate': 0.37},\n",
       "   {'baseCurrency': 'UAH',\n",
       "    'currency': 'GBP',\n",
       "    'saleRateNB': 33.2978,\n",
       "    'purchaseRateNB': 33.2978,\n",
       "    'saleRate': 33.95,\n",
       "    'purchaseRate': 31.95},\n",
       "   {'baseCurrency': 'UAH',\n",
       "    'currency': 'USD',\n",
       "    'saleRateNB': 26.335723,\n",
       "    'purchaseRateNB': 26.335723,\n",
       "    'saleRate': 26.5,\n",
       "    'purchaseRate': 26.1},\n",
       "   {'baseCurrency': 'UAH',\n",
       "    'currency': 'UZS',\n",
       "    'saleRateNB': 0.003138,\n",
       "    'purchaseRateNB': 0.003138},\n",
       "   {'baseCurrency': 'UAH',\n",
       "    'currency': 'BYN',\n",
       "    'saleRateNB': 12.66323,\n",
       "    'purchaseRateNB': 12.66323},\n",
       "   {'baseCurrency': 'UAH',\n",
       "    'currency': 'TMT',\n",
       "    'saleRateNB': 7.569353,\n",
       "    'purchaseRateNB': 7.569353},\n",
       "   {'baseCurrency': 'UAH',\n",
       "    'currency': 'AZN',\n",
       "    'saleRateNB': 15.491602,\n",
       "    'purchaseRateNB': 15.491602},\n",
       "   {'baseCurrency': 'UAH',\n",
       "    'currency': 'TRY',\n",
       "    'saleRateNB': 4.294572,\n",
       "    'purchaseRateNB': 4.294572},\n",
       "   {'baseCurrency': 'UAH',\n",
       "    'currency': 'EUR',\n",
       "    'saleRateNB': 29.335362,\n",
       "    'purchaseRateNB': 29.335362,\n",
       "    'saleRate': 29.65,\n",
       "    'purchaseRate': 29.0},\n",
       "   {'baseCurrency': 'UAH',\n",
       "    'currency': 'UAH',\n",
       "    'saleRateNB': 1.0,\n",
       "    'purchaseRateNB': 1.0},\n",
       "   {'baseCurrency': 'UAH',\n",
       "    'currency': 'GEL',\n",
       "    'saleRateNB': 9.809582,\n",
       "    'purchaseRateNB': 9.809582},\n",
       "   {'baseCurrency': 'UAH',\n",
       "    'currency': 'PLZ',\n",
       "    'saleRateNB': 6.812038,\n",
       "    'purchaseRateNB': 6.812038,\n",
       "    'saleRate': 6.9,\n",
       "    'purchaseRate': 6.5}]},\n",
       " {'date': '27.05.2019',\n",
       "  'bank': 'PB',\n",
       "  'baseCurrency': 980,\n",
       "  'baseCurrencyLit': 'UAH',\n",
       "  'exchangeRate': [{'baseCurrency': 'UAH',\n",
       "    'saleRateNB': 18.276665,\n",
       "    'purchaseRateNB': 18.276665},\n",
       "   {'baseCurrency': 'UAH',\n",
       "    'currency': 'CAD',\n",
       "    'saleRateNB': 19.675371,\n",
       "    'purchaseRateNB': 19.675371},\n",
       "   {'baseCurrency': 'UAH',\n",
       "    'currency': 'CNY',\n",
       "    'saleRateNB': 3.836144,\n",
       "    'purchaseRateNB': 3.836144},\n",
       "   {'baseCurrency': 'UAH',\n",
       "    'currency': 'CZK',\n",
       "    'saleRateNB': 1.146625,\n",
       "    'purchaseRateNB': 1.146625,\n",
       "    'saleRate': 1.15,\n",
       "    'purchaseRate': 1.02},\n",
       "   {'baseCurrency': 'UAH',\n",
       "    'currency': 'DKK',\n",
       "    'saleRateNB': 3.966006,\n",
       "    'purchaseRateNB': 3.966006},\n",
       "   {'baseCurrency': 'UAH',\n",
       "    'currency': 'HUF',\n",
       "    'saleRateNB': 0.0908647,\n",
       "    'purchaseRateNB': 0.0908647},\n",
       "   {'baseCurrency': 'UAH',\n",
       "    'currency': 'ILS',\n",
       "    'saleRateNB': 7.343566,\n",
       "    'purchaseRateNB': 7.343566},\n",
       "   {'baseCurrency': 'UAH',\n",
       "    'currency': 'JPY',\n",
       "    'saleRateNB': 0.2415573,\n",
       "    'purchaseRateNB': 0.2415573},\n",
       "   {'baseCurrency': 'UAH',\n",
       "    'currency': 'KZT',\n",
       "    'saleRateNB': 0.069788,\n",
       "    'purchaseRateNB': 0.069788},\n",
       "   {'baseCurrency': 'UAH',\n",
       "    'currency': 'MDL',\n",
       "    'saleRateNB': 1.466454,\n",
       "    'purchaseRateNB': 1.466454},\n",
       "   {'baseCurrency': 'UAH',\n",
       "    'currency': 'NOK',\n",
       "    'saleRateNB': 3.03587,\n",
       "    'purchaseRateNB': 3.03587},\n",
       "   {'baseCurrency': 'UAH',\n",
       "    'currency': 'SGD',\n",
       "    'saleRateNB': 19.228291,\n",
       "    'purchaseRateNB': 19.228291},\n",
       "   {'baseCurrency': 'UAH',\n",
       "    'currency': 'SEK',\n",
       "    'saleRateNB': 2.765443,\n",
       "    'purchaseRateNB': 2.765443},\n",
       "   {'baseCurrency': 'UAH',\n",
       "    'currency': 'CHF',\n",
       "    'saleRateNB': 26.408682,\n",
       "    'purchaseRateNB': 26.408682,\n",
       "    'saleRate': 26.5,\n",
       "    'purchaseRate': 24.7},\n",
       "   {'baseCurrency': 'UAH',\n",
       "    'currency': 'RUB',\n",
       "    'saleRateNB': 0.40976,\n",
       "    'purchaseRateNB': 0.40976,\n",
       "    'saleRate': 0.41,\n",
       "    'purchaseRate': 0.37},\n",
       "   {'baseCurrency': 'UAH',\n",
       "    'currency': 'GBP',\n",
       "    'saleRateNB': 33.534881,\n",
       "    'purchaseRateNB': 33.534881,\n",
       "    'saleRate': 33.95,\n",
       "    'purchaseRate': 31.95},\n",
       "   {'baseCurrency': 'UAH',\n",
       "    'currency': 'USD',\n",
       "    'saleRateNB': 26.67478,\n",
       "    'purchaseRateNB': 26.47478,\n",
       "    'saleRate': 26.5,\n",
       "    'purchaseRate': 26.1},\n",
       "   {'baseCurrency': 'UAH',\n",
       "    'currency': 'UZS',\n",
       "    'saleRateNB': 0.003138,\n",
       "    'purchaseRateNB': 0.003138},\n",
       "   {'baseCurrency': 'UAH',\n",
       "    'currency': 'BYN',\n",
       "    'saleRateNB': 12.73254,\n",
       "    'purchaseRateNB': 12.73254},\n",
       "   {'baseCurrency': 'UAH',\n",
       "    'currency': 'TMT',\n",
       "    'saleRateNB': 7.569353,\n",
       "    'purchaseRateNB': 7.569353},\n",
       "   {'baseCurrency': 'UAH',\n",
       "    'currency': 'AZN',\n",
       "    'saleRateNB': 15.5734,\n",
       "    'purchaseRateNB': 15.5734},\n",
       "   {'baseCurrency': 'UAH',\n",
       "    'currency': 'TRY',\n",
       "    'saleRateNB': 4.356259,\n",
       "    'purchaseRateNB': 4.356259},\n",
       "   {'baseCurrency': 'UAH',\n",
       "    'currency': 'EUR',\n",
       "    'saleRateNB': 29.617336,\n",
       "    'purchaseRateNB': 29.617336,\n",
       "    'saleRate': 29.65,\n",
       "    'purchaseRate': 29.0},\n",
       "   {'baseCurrency': 'UAH',\n",
       "    'currency': 'UAH',\n",
       "    'saleRateNB': 1.0,\n",
       "    'purchaseRateNB': 1.0},\n",
       "   {'baseCurrency': 'UAH',\n",
       "    'currency': 'GEL',\n",
       "    'saleRateNB': 9.809582,\n",
       "    'purchaseRateNB': 9.809582},\n",
       "   {'baseCurrency': 'UAH',\n",
       "    'currency': 'PLZ',\n",
       "    'saleRateNB': 6.89192,\n",
       "    'purchaseRateNB': 6.89192,\n",
       "    'saleRate': 6.9,\n",
       "    'purchaseRate': 6.5}]}]"
      ]
     },
     "execution_count": 368,
     "metadata": {},
     "output_type": "execute_result"
    }
   ],
   "source": [
    "bank"
   ]
  },
  {
   "cell_type": "code",
   "execution_count": 515,
   "metadata": {},
   "outputs": [
    {
     "name": "stdout",
     "output_type": "stream",
     "text": [
      "[[{'baseCurrency': 'UAH', 'saleRateNB': 18.109366, 'purchaseRateNB': 18.109366}, {'baseCurrency': 'UAH', 'currency': 'CAD', 'saleRateNB': 19.556908, 'purchaseRateNB': 19.556908}, {'baseCurrency': 'UAH', 'currency': 'CNY', 'saleRateNB': 3.80692, 'purchaseRateNB': 3.80692}, {'baseCurrency': 'UAH', 'currency': 'CZK', 'saleRateNB': 1.136105, 'purchaseRateNB': 1.136105, 'saleRate': 1.15, 'purchaseRate': 1.02}, {'baseCurrency': 'UAH', 'currency': 'DKK', 'saleRateNB': 3.927931, 'purchaseRateNB': 3.927931}, {'baseCurrency': 'UAH', 'currency': 'HUF', 'saleRateNB': 0.0897243, 'purchaseRateNB': 0.0897243}, {'baseCurrency': 'UAH', 'currency': 'ILS', 'saleRateNB': 7.285574, 'purchaseRateNB': 7.285574}, {'baseCurrency': 'UAH', 'currency': 'JPY', 'saleRateNB': 0.2393551, 'purchaseRateNB': 0.2393551}, {'baseCurrency': 'UAH', 'currency': 'KZT', 'saleRateNB': 0.069669, 'purchaseRateNB': 0.069669}, {'baseCurrency': 'UAH', 'currency': 'MDL', 'saleRateNB': 1.460426, 'purchaseRateNB': 1.460426}, {'baseCurrency': 'UAH', 'currency': 'NOK', 'saleRateNB': 3.007429, 'purchaseRateNB': 3.007429}, {'baseCurrency': 'UAH', 'currency': 'SGD', 'saleRateNB': 19.060075, 'purchaseRateNB': 19.060075}, {'baseCurrency': 'UAH', 'currency': 'SEK', 'saleRateNB': 2.732099, 'purchaseRateNB': 2.732099}, {'baseCurrency': 'UAH', 'currency': 'CHF', 'saleRateNB': 26.136281, 'purchaseRateNB': 26.136281, 'saleRate': 26.5, 'purchaseRate': 24.7}, {'baseCurrency': 'UAH', 'currency': 'RUB', 'saleRateNB': 0.40836, 'purchaseRateNB': 0.40836, 'saleRate': 0.41, 'purchaseRate': 0.37}, {'baseCurrency': 'UAH', 'currency': 'GBP', 'saleRateNB': 33.2978, 'purchaseRateNB': 33.2978, 'saleRate': 33.95, 'purchaseRate': 31.95}, {'baseCurrency': 'UAH', 'currency': 'USD', 'saleRateNB': 26.335723, 'purchaseRateNB': 26.335723, 'saleRate': 26.5, 'purchaseRate': 26.1}, {'baseCurrency': 'UAH', 'currency': 'UZS', 'saleRateNB': 0.003138, 'purchaseRateNB': 0.003138}, {'baseCurrency': 'UAH', 'currency': 'BYN', 'saleRateNB': 12.66323, 'purchaseRateNB': 12.66323}, {'baseCurrency': 'UAH', 'currency': 'TMT', 'saleRateNB': 7.569353, 'purchaseRateNB': 7.569353}, {'baseCurrency': 'UAH', 'currency': 'AZN', 'saleRateNB': 15.491602, 'purchaseRateNB': 15.491602}, {'baseCurrency': 'UAH', 'currency': 'TRY', 'saleRateNB': 4.294572, 'purchaseRateNB': 4.294572}, {'baseCurrency': 'UAH', 'currency': 'EUR', 'saleRateNB': 29.335362, 'purchaseRateNB': 29.335362, 'saleRate': 29.65, 'purchaseRate': 29.0}, {'baseCurrency': 'UAH', 'currency': 'UAH', 'saleRateNB': 1.0, 'purchaseRateNB': 1.0}, {'baseCurrency': 'UAH', 'currency': 'GEL', 'saleRateNB': 9.809582, 'purchaseRateNB': 9.809582}, {'baseCurrency': 'UAH', 'currency': 'PLZ', 'saleRateNB': 6.812038, 'purchaseRateNB': 6.812038, 'saleRate': 6.9, 'purchaseRate': 6.5}], [{'baseCurrency': 'UAH', 'saleRateNB': 18.276665, 'purchaseRateNB': 18.276665}, {'baseCurrency': 'UAH', 'currency': 'CAD', 'saleRateNB': 19.675371, 'purchaseRateNB': 19.675371}, {'baseCurrency': 'UAH', 'currency': 'CNY', 'saleRateNB': 3.836144, 'purchaseRateNB': 3.836144}, {'baseCurrency': 'UAH', 'currency': 'CZK', 'saleRateNB': 1.146625, 'purchaseRateNB': 1.146625, 'saleRate': 1.15, 'purchaseRate': 1.02}, {'baseCurrency': 'UAH', 'currency': 'DKK', 'saleRateNB': 3.966006, 'purchaseRateNB': 3.966006}, {'baseCurrency': 'UAH', 'currency': 'HUF', 'saleRateNB': 0.0908647, 'purchaseRateNB': 0.0908647}, {'baseCurrency': 'UAH', 'currency': 'ILS', 'saleRateNB': 7.343566, 'purchaseRateNB': 7.343566}, {'baseCurrency': 'UAH', 'currency': 'JPY', 'saleRateNB': 0.2415573, 'purchaseRateNB': 0.2415573}, {'baseCurrency': 'UAH', 'currency': 'KZT', 'saleRateNB': 0.069788, 'purchaseRateNB': 0.069788}, {'baseCurrency': 'UAH', 'currency': 'MDL', 'saleRateNB': 1.466454, 'purchaseRateNB': 1.466454}, {'baseCurrency': 'UAH', 'currency': 'NOK', 'saleRateNB': 3.03587, 'purchaseRateNB': 3.03587}, {'baseCurrency': 'UAH', 'currency': 'SGD', 'saleRateNB': 19.228291, 'purchaseRateNB': 19.228291}, {'baseCurrency': 'UAH', 'currency': 'SEK', 'saleRateNB': 2.765443, 'purchaseRateNB': 2.765443}, {'baseCurrency': 'UAH', 'currency': 'CHF', 'saleRateNB': 26.408682, 'purchaseRateNB': 26.408682, 'saleRate': 26.5, 'purchaseRate': 24.7}, {'baseCurrency': 'UAH', 'currency': 'RUB', 'saleRateNB': 0.40976, 'purchaseRateNB': 0.40976, 'saleRate': 0.41, 'purchaseRate': 0.37}, {'baseCurrency': 'UAH', 'currency': 'GBP', 'saleRateNB': 33.534881, 'purchaseRateNB': 33.534881, 'saleRate': 33.95, 'purchaseRate': 31.95}, {'baseCurrency': 'UAH', 'currency': 'USD', 'saleRateNB': 26.67478, 'purchaseRateNB': 26.47478, 'saleRate': 26.5, 'purchaseRate': 26.1}, {'baseCurrency': 'UAH', 'currency': 'UZS', 'saleRateNB': 0.003138, 'purchaseRateNB': 0.003138}, {'baseCurrency': 'UAH', 'currency': 'BYN', 'saleRateNB': 12.73254, 'purchaseRateNB': 12.73254}, {'baseCurrency': 'UAH', 'currency': 'TMT', 'saleRateNB': 7.569353, 'purchaseRateNB': 7.569353}, {'baseCurrency': 'UAH', 'currency': 'AZN', 'saleRateNB': 15.5734, 'purchaseRateNB': 15.5734}, {'baseCurrency': 'UAH', 'currency': 'TRY', 'saleRateNB': 4.356259, 'purchaseRateNB': 4.356259}, {'baseCurrency': 'UAH', 'currency': 'EUR', 'saleRateNB': 29.617336, 'purchaseRateNB': 29.617336, 'saleRate': 29.65, 'purchaseRate': 29.0}, {'baseCurrency': 'UAH', 'currency': 'UAH', 'saleRateNB': 1.0, 'purchaseRateNB': 1.0}, {'baseCurrency': 'UAH', 'currency': 'GEL', 'saleRateNB': 9.809582, 'purchaseRateNB': 9.809582}, {'baseCurrency': 'UAH', 'currency': 'PLZ', 'saleRateNB': 6.89192, 'purchaseRateNB': 6.89192, 'saleRate': 6.9, 'purchaseRate': 6.5}]]\n"
     ]
    }
   ],
   "source": [
    "#Створюємо список по досліджуваним валютам і їх курсам\n",
    "exchange=[]\n",
    "for i in range(0, len(bank)):\n",
    "    exch=bank[i]['exchangeRate']\n",
    "    exchange.append(exch)\n",
    "print(exchange)"
   ]
  },
  {
   "cell_type": "code",
   "execution_count": 516,
   "metadata": {
    "scrolled": true
   },
   "outputs": [
    {
     "name": "stdout",
     "output_type": "stream",
     "text": [
      "['CZK', 'CHF', 'RUB', 'GBP', 'USD', 'EUR', 'PLZ', 'CZK', 'CHF', 'RUB', 'GBP', 'USD', 'EUR', 'PLZ']\n",
      "[0.11304347826086948, 'CZK']\n"
     ]
    }
   ],
   "source": [
    "#1. Визначення вадюти, що має максимальне значення відхилення ціни на покупку і продаж валюти в приватбанку\n",
    "kuk=[]\n",
    "cur=[]\n",
    "for i in range(0, len(exchange)):\n",
    "    for l in range(0, len(exchange[i])):\n",
    "        if 'saleRate' in exchange[i][l].keys():\n",
    "            rang=(exchange[i][l]['saleRate']-exchange[i][l]['purchaseRate'])/exchange[i][l]['saleRate']\n",
    "            kuk.append(rang)\n",
    "            curen=exchange[i][l]['currency']\n",
    "            cur.append(curen)\n",
    "maxzn=max(enumerate(kuk),key=lambda x: x[1])[1]\n",
    "nomer=max(enumerate(kuk),key=lambda x: x[1])[0]\n",
    "nazvav=cur[nomer]\n",
    "maxvalue=[maxzn,nazvav]\n",
    "print(maxvalue)"
   ]
  },
  {
   "cell_type": "code",
   "execution_count": 517,
   "metadata": {},
   "outputs": [
    {
     "name": "stdout",
     "output_type": "stream",
     "text": [
      "['26.05.2019', '27.05.2019']\n"
     ]
    }
   ],
   "source": [
    "#Визначаємо список днів, які досліджуємо\n",
    "days=[]\n",
    "for i in range(0, len(bank)):\n",
    "    d=bank[i][\"date\"]\n",
    "    days.append(d)\n",
    "print(days)"
   ]
  },
  {
   "cell_type": "code",
   "execution_count": 518,
   "metadata": {},
   "outputs": [
    {
     "name": "stdout",
     "output_type": "stream",
     "text": [
      "7\n"
     ]
    }
   ],
   "source": [
    "#Визначаємо кількість валют, які порівнюються в приватбанку\n",
    "curperday=int(len(kuk)/len(days))\n",
    "print(curperday)"
   ]
  },
  {
   "cell_type": "code",
   "execution_count": 559,
   "metadata": {},
   "outputs": [
    {
     "name": "stdout",
     "output_type": "stream",
     "text": [
      "['26.05.2019']\n"
     ]
    },
    {
     "data": {
      "text/plain": [
       "{'date': '26.05.2019', 'maxdeviation': 0.11304347826086948, 'currency': 'CZK'}"
      ]
     },
     "execution_count": 559,
     "metadata": {},
     "output_type": "execute_result"
    }
   ],
   "source": [
    "#Визначаємо день, коли було максимальне відхилення купівлі-продаж\n",
    "day = int((nomer)//curperday)\n",
    "daymax=[days[day]]\n",
    "#Додаємо день в словник: дата, максимальне відхилення та валюта\n",
    "mergedlist = []\n",
    "mergedlist.extend(daymax)\n",
    "mergedlist.extend(maxvalue)\n",
    "nazva=['date', 'maxdeviation','currency']\n",
    "dict(zip(nazva,mergedlist))"
   ]
  },
  {
   "cell_type": "code",
   "execution_count": 560,
   "metadata": {},
   "outputs": [
    {
     "name": "stdout",
     "output_type": "stream",
     "text": [
      "[1.15, 26.5, 0.41, 33.95, 26.5, 29.65, 6.9, 1.15, 26.5, 0.41, 33.95, 26.5, 29.65, 6.9]\n",
      "[1.15, 26.5, 0.41, 33.95, 26.5, 29.65, 6.9]\n",
      "[1.15, 26.5, 0.41, 33.95, 26.5, 29.65, 6.9]\n"
     ]
    },
    {
     "data": {
      "text/plain": [
       "{'CZK': 0.0,\n",
       " 'CHF': 0.0,\n",
       " 'RUB': 0.0,\n",
       " 'GBP': 0.0,\n",
       " 'USD': 0.0,\n",
       " 'EUR': 0.0,\n",
       " 'PLZ': 0.0}"
      ]
     },
     "execution_count": 560,
     "metadata": {},
     "output_type": "execute_result"
    }
   ],
   "source": [
    "#2 Визначаємо на скільки виросла чи впала купівля іноземної валюти в порівнянні з гривнею за досліджуваний період в приватбанку\n",
    "sale=[]\n",
    "for i in range(0, len(exchange)):\n",
    "    for l in range(0, len(exchange[i])):\n",
    "        if 'saleRate' in exchange[i][l].keys():\n",
    "            rang1=(exchange[i][l]['saleRate'])\n",
    "            sale.append(rang1)\n",
    "print(sale)\n",
    "#початкові значення валют (на перший день порівняння)\n",
    "sale1=[]\n",
    "for i in range(0, curperday):\n",
    "    sale2=sale[i]\n",
    "    sale1.append(sale2)\n",
    "print(sale1)\n",
    "#кінцеві значення валют (на останній день порівняння)\n",
    "sale_n=[]\n",
    "for i in range(1, curperday+1):\n",
    "    sale3=sale[-i]\n",
    "    sale_n.append(sale3)\n",
    "sale_n.reverse()\n",
    "print(sale_n)\n",
    "#Визначаємо різницю вартості валют між останнім днем та початковим\n",
    "rizn1=list(map (lambda x,y: x-y, sale_n, sale1))\n",
    "valyuta=[cur[i] for i in range(len(cur)) if i == cur.index(cur[i])]\n",
    "dict(zip(valyuta,rizn1))"
   ]
  },
  {
   "cell_type": "code",
   "execution_count": 561,
   "metadata": {},
   "outputs": [
    {
     "data": {
      "text/plain": [
       "{'CZK': -0.11273,\n",
       " 'CHF': -1.3449629999999928,\n",
       " 'RUB': -0.03811999999999993,\n",
       " 'GBP': -0.9326810000000023,\n",
       " 'USD': -0.21050299999999567,\n",
       " 'EUR': -0.30269799999999947,\n",
       " 'PLZ': -0.30395799999999973}"
      ]
     },
     "execution_count": 561,
     "metadata": {},
     "output_type": "execute_result"
    }
   ],
   "source": [
    "#3 різниця вартості валют приват (середнэ значення купівлі-продаж) від НБУ\n",
    "priv=[]\n",
    "nbu=[]\n",
    "for i in range(0, len(exchange)):\n",
    "    for l in range(0, len(exchange[i])):\n",
    "        if 'saleRate' in exchange[i][l].keys():\n",
    "            rang=exchange[i][l]['purchaseRateNB']\n",
    "            nbu.append(rang)\n",
    "            priv1=(exchange[i][l]['saleRate']+exchange[i][l]['purchaseRate'])\n",
    "            priv.append(priv1)\n",
    "privs=[priv[i]/2 for i in range(0, len(priv))]\n",
    "priv3=[]\n",
    "nbu1=[]\n",
    "for i in range(0, curperday):\n",
    "    priv2=privs[i]+privs[i+curperday]\n",
    "    priv3.append(priv2)\n",
    "    nbu2=nbu[i]+nbu[i+curperday]\n",
    "    nbu1.append(nbu2)\n",
    "rizn=list(map (lambda x,y: x-y, priv3, nbu1))\n",
    "valyuta=[cur[i] for i in range(len(cur)) if i == cur.index(cur[i])]\n",
    "dict(zip(valyuta,rizn))"
   ]
  },
  {
   "cell_type": "code",
   "execution_count": 575,
   "metadata": {},
   "outputs": [
    {
     "name": "stdout",
     "output_type": "stream",
     "text": [
      "{'CAD': 0.0060208775732868485, 'CNY': 0.007618066475085434, 'CZK': 0.009174751989534578, 'DKK': 0.00960033847654292, 'HUF': 0.01255052842302896, 'ILS': 0.007896980840098612, 'JPY': 0.009116677492255523, 'KZT': 0.001705164211612426, 'MDL': 0.0041105960364252285, 'NOK': 0.009368319460319427, 'SGD': 0.008748359383576912, 'SEK': 0.01205738104166314, 'CHF': 0.010314827525281215, 'RUB': 0.003416634127294056, 'GBP': 0.0070696836526718656, 'USD': 0.0052524326925473055, 'UZS': 0.0, 'BYN': 0.005443532869325348, 'TMT': 0.0, 'AZN': 0.005252417583828782, 'TRY': 0.014160544632447257, 'EUR': 0.009520572680811053, 'UAH': 0.0, 'GEL': 0.0, 'PLZ': 0.011590674296857707}\n"
     ]
    }
   ],
   "source": [
    "#4 Визначаємо на скільки виріс чи впав курс іноземної валюти в порівнянні з гривнею за досліджуваний період в НБУ\n",
    "kurs_nbu=[]\n",
    "curens=[]\n",
    "for i in range(0, len(exchange)):\n",
    "    for l in range(0, len(exchange[i])):\n",
    "        if 'currency' in exchange[i][l].keys():\n",
    "            rang2=(exchange[i][l]['purchaseRateNB'])\n",
    "            kurs_nbu.append(rang2)\n",
    "            curen1=exchange[i][l]['currency']\n",
    "            curens.append(curen1)\n",
    "#визначаємо кількість валют по яким є курс в банку за даними приватбанку\n",
    "curnbuday=int(len(kurs_nbu)/len(days))\n",
    "#початкові значення валют (на перший день порівняння)\n",
    "kurs_nbu1=[]\n",
    "for i in range(0, curnbuday):\n",
    "    sale21=kurs_nbu[i]\n",
    "    kurs_nbu1.append(sale21)\n",
    "#кінцеві значення валют (на останній день порівняння)\n",
    "kurs_nbu_n=[]\n",
    "for i in range(1, curnbuday+1):\n",
    "    sale31=kurs_nbu[-i]\n",
    "    kurs_nbu_n.append(sale31)\n",
    "kurs_nbu_n.reverse()\n",
    "#Визначаємо приріст вартості валют між останнім днем та початковим\n",
    "riznycya=list(map (lambda x,y: (x-y)/x, kurs_nbu_n, kurs_nbu1))\n",
    "#Створюємо словник\n",
    "valyuty=[curens[i] for i in range(len(curens)) if i == curens.index(curens[i])]\n",
    "z=dict(zip(valyuty,riznycya))\n",
    "print(z)"
   ]
  },
  {
   "cell_type": "code",
   "execution_count": 584,
   "metadata": {},
   "outputs": [
    {
     "name": "stdout",
     "output_type": "stream",
     "text": [
      "(0.014160544632447257, 'TRY')\n",
      "(0.0, 'GEL')\n"
     ]
    }
   ],
   "source": [
    "#5 Валюта, яка найбільше виросла в порівнянні з гривнею за досліджуваний період в НБУ\n",
    "max_value = max([(value, key) for key, value in z.items()])\n",
    "print (max_value)\n",
    "#Валюта, яка найменше виросла (або не виросла) в порівнянні з гривнею за досліджуваний період в НБУ\n",
    "min_value= min([(value, key) for key, value in z.items()])\n",
    "print (min_value)"
   ]
  }
 ],
 "metadata": {
  "kernelspec": {
   "display_name": "Python 3",
   "language": "python",
   "name": "python3"
  },
  "language_info": {
   "codemirror_mode": {
    "name": "ipython",
    "version": 3
   },
   "file_extension": ".py",
   "mimetype": "text/x-python",
   "name": "python",
   "nbconvert_exporter": "python",
   "pygments_lexer": "ipython3",
   "version": "3.7.3"
  }
 },
 "nbformat": 4,
 "nbformat_minor": 2
}
